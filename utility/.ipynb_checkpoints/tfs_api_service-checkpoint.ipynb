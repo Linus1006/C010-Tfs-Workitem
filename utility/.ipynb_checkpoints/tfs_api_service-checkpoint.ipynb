{
 "cells": [
  {
   "cell_type": "markdown",
   "metadata": {},
   "source": [
    "# TFS API呼叫測試"
   ]
  },
  {
   "cell_type": "code",
   "execution_count": 1,
   "metadata": {},
   "outputs": [],
   "source": [
    "import tfs_api_helper as th\n",
    "import pandas as pd"
   ]
  },
  {
   "cell_type": "code",
   "execution_count": 2,
   "metadata": {},
   "outputs": [
    {
     "name": "stderr",
     "output_type": "stream",
     "text": [
      "/anaconda3/lib/python3.6/site-packages/urllib3/connectionpool.py:857: InsecureRequestWarning: Unverified HTTPS request is being made. Adding certificate verification is strongly advised. See: https://urllib3.readthedocs.io/en/latest/advanced-usage.html#ssl-warnings\n",
      "  InsecureRequestWarning)\n"
     ]
    }
   ],
   "source": [
    "tfs = th.TfsHelper(url='https://tfsa0w0p02:8080/tfs/', collection='C004', user='ESB11964', token='lfj2ve7ttgozouyvvb3azmlvgfvs7m47gbxmqfuw3ackoo6kzoca')\n",
    "tfs_projects = tfs.list_projects().json()"
   ]
  },
  {
   "cell_type": "markdown",
   "metadata": {},
   "source": [
    "查詢專案內所有的WIT"
   ]
  },
  {
   "cell_type": "code",
   "execution_count": 3,
   "metadata": {},
   "outputs": [
    {
     "name": "stderr",
     "output_type": "stream",
     "text": [
      "/anaconda3/lib/python3.6/site-packages/urllib3/connectionpool.py:857: InsecureRequestWarning: Unverified HTTPS request is being made. Adding certificate verification is strongly advised. See: https://urllib3.readthedocs.io/en/latest/advanced-usage.html#ssl-warnings\n",
      "  InsecureRequestWarning)\n"
     ]
    },
    {
     "name": "stdout",
     "output_type": "stream",
     "text": [
      "{'queryType': 'flat', 'queryResultType': 'workItem', 'asOf': '2018-12-10T06:48:10.413Z', 'columns': [{'referenceName': 'System.Id', 'name': 'ID', 'url': 'https://tfsa0w0p02:8080/tfs/C004/_apis/wit/fields/System.Id'}], 'workItems': [{'id': 2232, 'url': 'https://tfsa0w0p02:8080/tfs/C004/_apis/wit/workItems/2232'}, {'id': 2233, 'url': 'https://tfsa0w0p02:8080/tfs/C004/_apis/wit/workItems/2233'}, {'id': 2234, 'url': 'https://tfsa0w0p02:8080/tfs/C004/_apis/wit/workItems/2234'}, {'id': 2235, 'url': 'https://tfsa0w0p02:8080/tfs/C004/_apis/wit/workItems/2235'}, {'id': 2236, 'url': 'https://tfsa0w0p02:8080/tfs/C004/_apis/wit/workItems/2236'}, {'id': 2237, 'url': 'https://tfsa0w0p02:8080/tfs/C004/_apis/wit/workItems/2237'}, {'id': 2238, 'url': 'https://tfsa0w0p02:8080/tfs/C004/_apis/wit/workItems/2238'}, {'id': 2239, 'url': 'https://tfsa0w0p02:8080/tfs/C004/_apis/wit/workItems/2239'}, {'id': 2240, 'url': 'https://tfsa0w0p02:8080/tfs/C004/_apis/wit/workItems/2240'}, {'id': 2241, 'url': 'https://tfsa0w0p02:8080/tfs/C004/_apis/wit/workItems/2241'}, {'id': 2242, 'url': 'https://tfsa0w0p02:8080/tfs/C004/_apis/wit/workItems/2242'}, {'id': 2243, 'url': 'https://tfsa0w0p02:8080/tfs/C004/_apis/wit/workItems/2243'}, {'id': 2245, 'url': 'https://tfsa0w0p02:8080/tfs/C004/_apis/wit/workItems/2245'}, {'id': 2246, 'url': 'https://tfsa0w0p02:8080/tfs/C004/_apis/wit/workItems/2246'}, {'id': 2256, 'url': 'https://tfsa0w0p02:8080/tfs/C004/_apis/wit/workItems/2256'}, {'id': 2344, 'url': 'https://tfsa0w0p02:8080/tfs/C004/_apis/wit/workItems/2344'}, {'id': 2345, 'url': 'https://tfsa0w0p02:8080/tfs/C004/_apis/wit/workItems/2345'}, {'id': 2360, 'url': 'https://tfsa0w0p02:8080/tfs/C004/_apis/wit/workItems/2360'}]}\n"
     ]
    }
   ],
   "source": [
    "wiql = {'query': 'Select [System.ID] From WorkItems Where [System.TeamProject] = \"C010-Tfs-Workitem\"'}\n",
    "tfs_list_workitems = tfs.list_workitems(wiql).json()\n",
    "\n",
    "print(tfs_list_workitems)"
   ]
  },
  {
   "cell_type": "markdown",
   "metadata": {},
   "source": [
    "查詢今天之前的WIT"
   ]
  },
  {
   "cell_type": "code",
   "execution_count": 4,
   "metadata": {},
   "outputs": [
    {
     "name": "stdout",
     "output_type": "stream",
     "text": [
      "15\n"
     ]
    },
    {
     "name": "stderr",
     "output_type": "stream",
     "text": [
      "/anaconda3/lib/python3.6/site-packages/urllib3/connectionpool.py:857: InsecureRequestWarning: Unverified HTTPS request is being made. Adding certificate verification is strongly advised. See: https://urllib3.readthedocs.io/en/latest/advanced-usage.html#ssl-warnings\n",
      "  InsecureRequestWarning)\n"
     ]
    }
   ],
   "source": [
    "wiql = {'query': 'Select [System.ID] From WorkItems Where [System.TeamProject] = \"C010-Tfs-Workitem\" AND [Microsoft.VSTS.Scheduling.FinishDate] < @Today'}     \n",
    "tfs_list_workitems = tfs.list_workitems(wiql).json()['workItems']\n",
    "\n",
    "print(len(tfs_list_workitems))"
   ]
  },
  {
   "cell_type": "markdown",
   "metadata": {},
   "source": [
    "查詢逾期的WIT(作用中或已提議)"
   ]
  },
  {
   "cell_type": "code",
   "execution_count": 5,
   "metadata": {},
   "outputs": [
    {
     "name": "stdout",
     "output_type": "stream",
     "text": [
      "11\n"
     ]
    },
    {
     "name": "stderr",
     "output_type": "stream",
     "text": [
      "/anaconda3/lib/python3.6/site-packages/urllib3/connectionpool.py:857: InsecureRequestWarning: Unverified HTTPS request is being made. Adding certificate verification is strongly advised. See: https://urllib3.readthedocs.io/en/latest/advanced-usage.html#ssl-warnings\n",
      "  InsecureRequestWarning)\n"
     ]
    }
   ],
   "source": [
    "wiql = {'query': 'Select [System.ID] From WorkItems Where [System.TeamProject] = \"C010-Tfs-Workitem\" AND [Microsoft.VSTS.Scheduling.FinishDate] < @Today AND ([System.State] = \"已提議\" OR [System.State] = \"作用中\" )'}     \n",
    "tfs_list_workitems = tfs.list_workitems(wiql).json()['workItems']\n",
    "\n",
    "print(len(tfs_list_workitems))"
   ]
  },
  {
   "cell_type": "markdown",
   "metadata": {},
   "source": [
    "查詢需要幫忙的工作項"
   ]
  },
  {
   "cell_type": "code",
   "execution_count": 6,
   "metadata": {},
   "outputs": [
    {
     "name": "stdout",
     "output_type": "stream",
     "text": [
      "2\n"
     ]
    },
    {
     "name": "stderr",
     "output_type": "stream",
     "text": [
      "/anaconda3/lib/python3.6/site-packages/urllib3/connectionpool.py:857: InsecureRequestWarning: Unverified HTTPS request is being made. Adding certificate verification is strongly advised. See: https://urllib3.readthedocs.io/en/latest/advanced-usage.html#ssl-warnings\n",
      "  InsecureRequestWarning)\n"
     ]
    }
   ],
   "source": [
    "wiql = {'query': 'Select [System.ID] From WorkItems Where [System.TeamProject] = \"C010-Tfs-Workitem\" AND [C005.CallHelp] = true'}     \n",
    "tfs_list_workitems = tfs.list_workitems(wiql).json()['workItems']\n",
    "\n",
    "print(len(tfs_list_workitems))"
   ]
  },
  {
   "cell_type": "markdown",
   "metadata": {},
   "source": [
    "查詢可能逾期的工作項"
   ]
  },
  {
   "cell_type": "code",
   "execution_count": 7,
   "metadata": {},
   "outputs": [
    {
     "name": "stdout",
     "output_type": "stream",
     "text": [
      "9\n"
     ]
    },
    {
     "name": "stderr",
     "output_type": "stream",
     "text": [
      "/anaconda3/lib/python3.6/site-packages/urllib3/connectionpool.py:857: InsecureRequestWarning: Unverified HTTPS request is being made. Adding certificate verification is strongly advised. See: https://urllib3.readthedocs.io/en/latest/advanced-usage.html#ssl-warnings\n",
      "  InsecureRequestWarning)\n"
     ]
    }
   ],
   "source": [
    "wiql = {'query': 'Select [System.ID] From WorkItems Where [System.TeamProject] = \"C010-Tfs-Workitem\" AND [C005.OnSchedule] = false AND [System.WorkItemType] = \"工作\" AND ([System.State] = \"已提議\" OR [System.State] = \"作用中\" )'}     \n",
    "tfs_list_workitems = tfs.list_workitems(wiql).json()['workItems']\n",
    "\n",
    "print(len(tfs_list_workitems))"
   ]
  },
  {
   "cell_type": "markdown",
   "metadata": {},
   "source": [
    "取出工作項的資料"
   ]
  },
  {
   "cell_type": "code",
   "execution_count": 115,
   "metadata": {},
   "outputs": [],
   "source": [
    "#使用正規表示式取員編\n",
    "def get_staff_id(assigned):\n",
    "    pattern = r'[0-9]{1,5}>'\n",
    "    find = re.findall(string=assigned, pattern=pattern)[0]\n",
    "    pattern = r'>'\n",
    "    \n",
    "    staff_id = re.split(pattern=pattern, string= find)\n",
    "    return staff_id[0]"
   ]
  },
  {
   "cell_type": "code",
   "execution_count": 121,
   "metadata": {},
   "outputs": [
    {
     "name": "stdout",
     "output_type": "stream",
     "text": [
      "{'id': 2237, 'rev': 3, 'fields': {'System.AreaPath': 'C010-Tfs-Workitem', 'System.TeamProject': 'C010-Tfs-Workitem', 'System.IterationPath': 'C010-Tfs-Workitem\\\\CTO TFS需求', 'System.WorkItemType': '工作', 'System.State': '已提議', 'System.Reason': '新增', 'System.AssignedTo': '葉柏廷11964 <OANT\\\\ESB11964>', 'System.CreatedDate': '2018-11-26T04:41:00.697Z', 'System.CreatedBy': '葉柏廷11964 <OANT\\\\ESB11964>', 'System.ChangedDate': '2018-12-06T05:12:46.993Z', 'System.ChangedBy': '葉柏廷11964 <OANT\\\\ESB11964>', 'System.Title': '確認新增欄位在資料庫有被存檔(需用程式呼叫)', 'Microsoft.VSTS.Common.StateChangeDate': '2018-11-26T04:41:00.697Z', 'Microsoft.VSTS.Common.Priority': 2, 'Microsoft.VSTS.Common.Triage': '暫止', 'Microsoft.VSTS.Common.StackRank': 0.0, 'Microsoft.VSTS.Scheduling.OriginalEstimate': 5.0, 'Microsoft.VSTS.CMMI.Blocked': '否', 'Microsoft.VSTS.CMMI.TaskType': '計劃', 'Microsoft.VSTS.CMMI.RequiresReview': '否', 'Microsoft.VSTS.CMMI.RequiresTest': '否', 'Microsoft.VSTS.Scheduling.RemainingWork': 5.0, 'Microsoft.VSTS.Scheduling.CompletedWork': 0.0, 'Microsoft.VSTS.Scheduling.StartDate': '2018-12-06T00:00:00Z', 'Microsoft.VSTS.Scheduling.FinishDate': '2018-12-06T06:00:00Z'}, '_links': {'self': {'href': 'https://tfsa0w0p02:8080/tfs/C004/c00733df-a66f-4e77-973c-f0ee140dac6e/_apis/wit/workItems/2237'}, 'workItemUpdates': {'href': 'https://tfsa0w0p02:8080/tfs/C004/_apis/wit/workItems/2237/updates'}, 'workItemRevisions': {'href': 'https://tfsa0w0p02:8080/tfs/C004/_apis/wit/workItems/2237/revisions'}, 'workItemHistory': {'href': 'https://tfsa0w0p02:8080/tfs/C004/_apis/wit/workItems/2237/history'}, 'html': {'href': 'https://tfsa0w0p02:8080/tfs/web/wi.aspx?pcguid=2fb3264f-00c6-44ca-b0ae-9e7429f12a87&id=2237'}, 'workItemType': {'href': 'https://tfsa0w0p02:8080/tfs/C004/c00733df-a66f-4e77-973c-f0ee140dac6e/_apis/wit/workItemTypes/%E5%B7%A5%E4%BD%9C'}, 'fields': {'href': 'https://tfsa0w0p02:8080/tfs/C004/c00733df-a66f-4e77-973c-f0ee140dac6e/_apis/wit/fields'}}, 'url': 'https://tfsa0w0p02:8080/tfs/C004/c00733df-a66f-4e77-973c-f0ee140dac6e/_apis/wit/workItems/2237'}\n"
     ]
    },
    {
     "name": "stderr",
     "output_type": "stream",
     "text": [
      "/anaconda3/lib/python3.6/site-packages/urllib3/connectionpool.py:857: InsecureRequestWarning: Unverified HTTPS request is being made. Adding certificate verification is strongly advised. See: https://urllib3.readthedocs.io/en/latest/advanced-usage.html#ssl-warnings\n",
      "  InsecureRequestWarning)\n"
     ]
    },
    {
     "ename": "KeyError",
     "evalue": "'System.TeamProject'",
     "output_type": "error",
     "traceback": [
      "\u001b[0;31m---------------------------------------------------------------------------\u001b[0m",
      "\u001b[0;31mKeyError\u001b[0m                                  Traceback (most recent call last)",
      "\u001b[0;32m<ipython-input-121-87f0a8a62488>\u001b[0m in \u001b[0;36m<module>\u001b[0;34m\u001b[0m\n\u001b[1;32m      4\u001b[0m     \u001b[0mworkitem\u001b[0m \u001b[0;34m=\u001b[0m \u001b[0mtfs\u001b[0m\u001b[0;34m.\u001b[0m\u001b[0mtfs_api_call\u001b[0m\u001b[0;34m(\u001b[0m\u001b[0mi\u001b[0m\u001b[0;34m[\u001b[0m\u001b[0;34m'url'\u001b[0m\u001b[0;34m]\u001b[0m\u001b[0;34m)\u001b[0m\u001b[0;34m.\u001b[0m\u001b[0mjson\u001b[0m\u001b[0;34m(\u001b[0m\u001b[0;34m)\u001b[0m\u001b[0;34m\u001b[0m\u001b[0m\n\u001b[1;32m      5\u001b[0m     \u001b[0mprint\u001b[0m\u001b[0;34m(\u001b[0m\u001b[0mworkitem\u001b[0m\u001b[0;34m)\u001b[0m\u001b[0;34m\u001b[0m\u001b[0m\n\u001b[0;32m----> 6\u001b[0;31m     \u001b[0mproject\u001b[0m \u001b[0;34m=\u001b[0m \u001b[0mworkitem\u001b[0m\u001b[0;34m[\u001b[0m\u001b[0;34m'System.TeamProject'\u001b[0m\u001b[0;34m]\u001b[0m\u001b[0;34m\u001b[0m\u001b[0m\n\u001b[0m\u001b[1;32m      7\u001b[0m     \u001b[0massigned\u001b[0m \u001b[0;34m=\u001b[0m \u001b[0mworkitem\u001b[0m\u001b[0;34m[\u001b[0m\u001b[0;34m'System.AssignedTo'\u001b[0m\u001b[0;34m]\u001b[0m\u001b[0;34m\u001b[0m\u001b[0m\n\u001b[1;32m      8\u001b[0m     \u001b[0mtitle\u001b[0m \u001b[0;34m=\u001b[0m  \u001b[0mworkitem\u001b[0m\u001b[0;34m[\u001b[0m\u001b[0;34m'System.Title'\u001b[0m\u001b[0;34m]\u001b[0m\u001b[0;34m\u001b[0m\u001b[0m\n",
      "\u001b[0;31mKeyError\u001b[0m: 'System.TeamProject'"
     ]
    }
   ],
   "source": [
    "import re\n",
    "\n",
    "for i in tfs_list_workitems:\n",
    "    workitem = tfs.tfs_api_call(i['url']).json()\n",
    "    print(workitem)\n",
    "    project = workitem['fields']['System.TeamProject']\n",
    "    assigned = workitem['fields']['System.AssignedTo']\n",
    "    title =  workitem['fields']['System.Title']\n",
    "    html = workitem['html']['href']\n",
    "    print('Project：' , project)\n",
    "    print('工作包擁有者：', assigned)\n",
    "    print('ID：', i['id'])\n",
    "    print('工作項：', title)\n",
    "    print('連結：', html)\n",
    "    #取AD\n",
    "    #pattern =  r'OANT\\\\[a-zA-Z0-9]*'\n",
    "    staff = get_staff_id(assigned)\n",
    "    print('Staff：', staff)\n",
    "    \n",
    "    \n",
    "    "
   ]
  },
  {
   "cell_type": "markdown",
   "metadata": {},
   "source": []
  },
  {
   "cell_type": "code",
   "execution_count": null,
   "metadata": {},
   "outputs": [],
   "source": []
  },
  {
   "cell_type": "code",
   "execution_count": null,
   "metadata": {},
   "outputs": [],
   "source": []
  },
  {
   "cell_type": "code",
   "execution_count": null,
   "metadata": {},
   "outputs": [],
   "source": []
  },
  {
   "cell_type": "code",
   "execution_count": null,
   "metadata": {},
   "outputs": [],
   "source": []
  },
  {
   "cell_type": "markdown",
   "metadata": {},
   "source": [
    "取得Mail Address"
   ]
  },
  {
   "cell_type": "code",
   "execution_count": 9,
   "metadata": {},
   "outputs": [
    {
     "data": {
      "text/html": [
       "<div>\n",
       "<style scoped>\n",
       "    .dataframe tbody tr th:only-of-type {\n",
       "        vertical-align: middle;\n",
       "    }\n",
       "\n",
       "    .dataframe tbody tr th {\n",
       "        vertical-align: top;\n",
       "    }\n",
       "\n",
       "    .dataframe thead th {\n",
       "        text-align: right;\n",
       "    }\n",
       "</style>\n",
       "<table border=\"1\" class=\"dataframe\">\n",
       "  <thead>\n",
       "    <tr style=\"text-align: right;\">\n",
       "      <th></th>\n",
       "      <th>PID</th>\n",
       "      <th>EML</th>\n",
       "      <th>DCD</th>\n",
       "    </tr>\n",
       "  </thead>\n",
       "  <tbody>\n",
       "    <tr>\n",
       "      <th>0</th>\n",
       "      <td>11964</td>\n",
       "      <td>ybt-11964@email.esunbank.com.tw</td>\n",
       "      <td>C010</td>\n",
       "    </tr>\n",
       "    <tr>\n",
       "      <th>1</th>\n",
       "      <td>11965</td>\n",
       "      <td>jya-11965@email.esunbank.com.tw</td>\n",
       "      <td>C010</td>\n",
       "    </tr>\n",
       "    <tr>\n",
       "      <th>2</th>\n",
       "      <td>13240</td>\n",
       "      <td>ntuaha-13240@email.esunbank.com.tw</td>\n",
       "      <td>C010</td>\n",
       "    </tr>\n",
       "    <tr>\n",
       "      <th>3</th>\n",
       "      <td>16095</td>\n",
       "      <td>jerrywang-16095@email.esunbank.com.tw</td>\n",
       "      <td>C010</td>\n",
       "    </tr>\n",
       "    <tr>\n",
       "      <th>4</th>\n",
       "      <td>17908</td>\n",
       "      <td>mingchieh-17908@email.esunbank.com.tw</td>\n",
       "      <td>C010</td>\n",
       "    </tr>\n",
       "    <tr>\n",
       "      <th>5</th>\n",
       "      <td>18114</td>\n",
       "      <td>chiehen-18114@email.esunbank.com.tw</td>\n",
       "      <td>C010</td>\n",
       "    </tr>\n",
       "    <tr>\n",
       "      <th>6</th>\n",
       "      <td>18341</td>\n",
       "      <td>kentsai-18341@email.esunbank.com.tw</td>\n",
       "      <td>C010</td>\n",
       "    </tr>\n",
       "    <tr>\n",
       "      <th>7</th>\n",
       "      <td>19338</td>\n",
       "      <td>lucien.cy.chen-19338@email.esunbank.com.tw</td>\n",
       "      <td>C010</td>\n",
       "    </tr>\n",
       "    <tr>\n",
       "      <th>8</th>\n",
       "      <td>3564</td>\n",
       "      <td>colin-03564@email.esunbank.com.tw</td>\n",
       "      <td>C005</td>\n",
       "    </tr>\n",
       "    <tr>\n",
       "      <th>9</th>\n",
       "      <td>10281</td>\n",
       "      <td>kikilin-10281@email.esunbank.com.tw</td>\n",
       "      <td>C005</td>\n",
       "    </tr>\n",
       "    <tr>\n",
       "      <th>10</th>\n",
       "      <td>12267</td>\n",
       "      <td>herman-12267@email.esunbank.com.tw</td>\n",
       "      <td>C005</td>\n",
       "    </tr>\n",
       "    <tr>\n",
       "      <th>11</th>\n",
       "      <td>13243</td>\n",
       "      <td>wangf-13243@email.esunbank.com.tw</td>\n",
       "      <td>C005</td>\n",
       "    </tr>\n",
       "    <tr>\n",
       "      <th>12</th>\n",
       "      <td>14111</td>\n",
       "      <td>hoching-14111@email.esunbank.com.tw</td>\n",
       "      <td>C005</td>\n",
       "    </tr>\n",
       "    <tr>\n",
       "      <th>13</th>\n",
       "      <td>15143</td>\n",
       "      <td>wheat-15143@email.esunbank.com.tw</td>\n",
       "      <td>C005</td>\n",
       "    </tr>\n",
       "    <tr>\n",
       "      <th>14</th>\n",
       "      <td>15777</td>\n",
       "      <td>micotai-15777@email.esunbank.com.tw</td>\n",
       "      <td>C005</td>\n",
       "    </tr>\n",
       "    <tr>\n",
       "      <th>15</th>\n",
       "      <td>15953</td>\n",
       "      <td>lukechen-15953@email.esunbank.com.tw</td>\n",
       "      <td>C005</td>\n",
       "    </tr>\n",
       "    <tr>\n",
       "      <th>16</th>\n",
       "      <td>16209</td>\n",
       "      <td>weitrtce-16209@email.esunbank.com.tw</td>\n",
       "      <td>C005</td>\n",
       "    </tr>\n",
       "    <tr>\n",
       "      <th>17</th>\n",
       "      <td>16556</td>\n",
       "      <td>leochyn-16556@email.esunbank.com.tw</td>\n",
       "      <td>C005</td>\n",
       "    </tr>\n",
       "    <tr>\n",
       "      <th>18</th>\n",
       "      <td>16557</td>\n",
       "      <td>hsinyeh-16557@email.esunbank.com.tw</td>\n",
       "      <td>C005</td>\n",
       "    </tr>\n",
       "    <tr>\n",
       "      <th>19</th>\n",
       "      <td>16986</td>\n",
       "      <td>yurei-16986@email.esunbank.com.tw</td>\n",
       "      <td>C005</td>\n",
       "    </tr>\n",
       "    <tr>\n",
       "      <th>20</th>\n",
       "      <td>17420</td>\n",
       "      <td>peggy-17420@email.esunbank.com.tw</td>\n",
       "      <td>C005</td>\n",
       "    </tr>\n",
       "    <tr>\n",
       "      <th>21</th>\n",
       "      <td>17710</td>\n",
       "      <td>francis-17710@email.esunbank.com.tw</td>\n",
       "      <td>C005</td>\n",
       "    </tr>\n",
       "    <tr>\n",
       "      <th>22</th>\n",
       "      <td>93102</td>\n",
       "      <td>peiyu-93102@email.esunbank.com.tw</td>\n",
       "      <td>C005</td>\n",
       "    </tr>\n",
       "    <tr>\n",
       "      <th>23</th>\n",
       "      <td>2299</td>\n",
       "      <td>fong-02299@email.esunbank.com.tw</td>\n",
       "      <td>C005</td>\n",
       "    </tr>\n",
       "    <tr>\n",
       "      <th>24</th>\n",
       "      <td>4414</td>\n",
       "      <td>joe-04414@email.esunbank.com.tw</td>\n",
       "      <td>C005</td>\n",
       "    </tr>\n",
       "    <tr>\n",
       "      <th>25</th>\n",
       "      <td>6214</td>\n",
       "      <td>juicegir-06214@email.esunbank.com.tw</td>\n",
       "      <td>C005</td>\n",
       "    </tr>\n",
       "    <tr>\n",
       "      <th>26</th>\n",
       "      <td>7482</td>\n",
       "      <td>jamie-07482@email.esunbank.com.tw</td>\n",
       "      <td>C005</td>\n",
       "    </tr>\n",
       "    <tr>\n",
       "      <th>27</th>\n",
       "      <td>7567</td>\n",
       "      <td>abean-07567@email.esunbank.com.tw</td>\n",
       "      <td>C005</td>\n",
       "    </tr>\n",
       "    <tr>\n",
       "      <th>28</th>\n",
       "      <td>8354</td>\n",
       "      <td>greedchen-08354@email.esunbank.com.tw</td>\n",
       "      <td>C005</td>\n",
       "    </tr>\n",
       "    <tr>\n",
       "      <th>29</th>\n",
       "      <td>8771</td>\n",
       "      <td>kellen-08771@email.esunbank.com.tw</td>\n",
       "      <td>C005</td>\n",
       "    </tr>\n",
       "    <tr>\n",
       "      <th>...</th>\n",
       "      <td>...</td>\n",
       "      <td>...</td>\n",
       "      <td>...</td>\n",
       "    </tr>\n",
       "    <tr>\n",
       "      <th>56</th>\n",
       "      <td>17365</td>\n",
       "      <td>wanching-17365@email.esunbank.com.tw</td>\n",
       "      <td>C005</td>\n",
       "    </tr>\n",
       "    <tr>\n",
       "      <th>57</th>\n",
       "      <td>17526</td>\n",
       "      <td>ywwen-17526@email.esunbank.com.tw</td>\n",
       "      <td>C005</td>\n",
       "    </tr>\n",
       "    <tr>\n",
       "      <th>58</th>\n",
       "      <td>17703</td>\n",
       "      <td>rexliu-17703@email.esunbank.com.tw</td>\n",
       "      <td>C005</td>\n",
       "    </tr>\n",
       "    <tr>\n",
       "      <th>59</th>\n",
       "      <td>17770</td>\n",
       "      <td>jessewu-17770@email.esunbank.com.tw</td>\n",
       "      <td>C005</td>\n",
       "    </tr>\n",
       "    <tr>\n",
       "      <th>60</th>\n",
       "      <td>17957</td>\n",
       "      <td>twhuang-17957@email.esunbank.com.tw</td>\n",
       "      <td>C005</td>\n",
       "    </tr>\n",
       "    <tr>\n",
       "      <th>61</th>\n",
       "      <td>18067</td>\n",
       "      <td>trent-18067@email.esunbank.com.tw</td>\n",
       "      <td>C005</td>\n",
       "    </tr>\n",
       "    <tr>\n",
       "      <th>62</th>\n",
       "      <td>18082</td>\n",
       "      <td>fangyu-18082@email.esunbank.com.tw</td>\n",
       "      <td>C005</td>\n",
       "    </tr>\n",
       "    <tr>\n",
       "      <th>63</th>\n",
       "      <td>18112</td>\n",
       "      <td>yichen-18112@email.esunbank.com.tw</td>\n",
       "      <td>C005</td>\n",
       "    </tr>\n",
       "    <tr>\n",
       "      <th>64</th>\n",
       "      <td>18122</td>\n",
       "      <td>ddennis-18122@email.esunbank.com.tw</td>\n",
       "      <td>C005</td>\n",
       "    </tr>\n",
       "    <tr>\n",
       "      <th>65</th>\n",
       "      <td>18342</td>\n",
       "      <td>ahare-18342@email.esunbank.com.tw</td>\n",
       "      <td>C005</td>\n",
       "    </tr>\n",
       "    <tr>\n",
       "      <th>66</th>\n",
       "      <td>18343</td>\n",
       "      <td>wenming-18343@email.esunbank.com.tw</td>\n",
       "      <td>C005</td>\n",
       "    </tr>\n",
       "    <tr>\n",
       "      <th>67</th>\n",
       "      <td>18344</td>\n",
       "      <td>yichen-18344@email.esunbank.com.tw</td>\n",
       "      <td>C005</td>\n",
       "    </tr>\n",
       "    <tr>\n",
       "      <th>68</th>\n",
       "      <td>18345</td>\n",
       "      <td>Michelle-18345@email.esunbank.com.tw</td>\n",
       "      <td>C005</td>\n",
       "    </tr>\n",
       "    <tr>\n",
       "      <th>69</th>\n",
       "      <td>18346</td>\n",
       "      <td>maychou-18346@email.esunbank.com.tw</td>\n",
       "      <td>C005</td>\n",
       "    </tr>\n",
       "    <tr>\n",
       "      <th>70</th>\n",
       "      <td>18347</td>\n",
       "      <td>michael-18347@email.esunbank.com.tw</td>\n",
       "      <td>C005</td>\n",
       "    </tr>\n",
       "    <tr>\n",
       "      <th>71</th>\n",
       "      <td>18440</td>\n",
       "      <td>lilicheng-18440@email.esunbank.com.tw</td>\n",
       "      <td>C005</td>\n",
       "    </tr>\n",
       "    <tr>\n",
       "      <th>72</th>\n",
       "      <td>18507</td>\n",
       "      <td>oceanuheart-18507@email.esunbank.com.tw</td>\n",
       "      <td>C005</td>\n",
       "    </tr>\n",
       "    <tr>\n",
       "      <th>73</th>\n",
       "      <td>18849</td>\n",
       "      <td>RHChen-18849@email.esunbank.com.tw</td>\n",
       "      <td>C005</td>\n",
       "    </tr>\n",
       "    <tr>\n",
       "      <th>74</th>\n",
       "      <td>18894</td>\n",
       "      <td>jc080571-18894@email.esunbank.com.tw</td>\n",
       "      <td>C005</td>\n",
       "    </tr>\n",
       "    <tr>\n",
       "      <th>75</th>\n",
       "      <td>19058</td>\n",
       "      <td>peiweng-19058@email.esunbank.com.tw</td>\n",
       "      <td>C005</td>\n",
       "    </tr>\n",
       "    <tr>\n",
       "      <th>76</th>\n",
       "      <td>19098</td>\n",
       "      <td>phhsieh-19098@email.esunbank.com.tw</td>\n",
       "      <td>C005</td>\n",
       "    </tr>\n",
       "    <tr>\n",
       "      <th>77</th>\n",
       "      <td>19099</td>\n",
       "      <td>ang-19099@email.esunbank.com.tw</td>\n",
       "      <td>C005</td>\n",
       "    </tr>\n",
       "    <tr>\n",
       "      <th>78</th>\n",
       "      <td>19158</td>\n",
       "      <td>zchsieh-19158@email.esunbank.com.tw</td>\n",
       "      <td>C005</td>\n",
       "    </tr>\n",
       "    <tr>\n",
       "      <th>79</th>\n",
       "      <td>19233</td>\n",
       "      <td>jufeng-19233@email.esunbank.com.tw</td>\n",
       "      <td>C005</td>\n",
       "    </tr>\n",
       "    <tr>\n",
       "      <th>80</th>\n",
       "      <td>19252</td>\n",
       "      <td>hty-19252@email.esunbank.com.tw</td>\n",
       "      <td>C005</td>\n",
       "    </tr>\n",
       "    <tr>\n",
       "      <th>81</th>\n",
       "      <td>19255</td>\n",
       "      <td>ruwuao-19255@email.esunbank.com.tw</td>\n",
       "      <td>C005</td>\n",
       "    </tr>\n",
       "    <tr>\n",
       "      <th>82</th>\n",
       "      <td>19269</td>\n",
       "      <td>adea-19269@email.esunbank.com.tw</td>\n",
       "      <td>C005</td>\n",
       "    </tr>\n",
       "    <tr>\n",
       "      <th>83</th>\n",
       "      <td>19293</td>\n",
       "      <td>danny-19293@email.esunbank.com.tw</td>\n",
       "      <td>C005</td>\n",
       "    </tr>\n",
       "    <tr>\n",
       "      <th>84</th>\n",
       "      <td>19366</td>\n",
       "      <td>Albert-19366@email.esunbank.com.tw</td>\n",
       "      <td>C005</td>\n",
       "    </tr>\n",
       "    <tr>\n",
       "      <th>85</th>\n",
       "      <td>19399</td>\n",
       "      <td>yilee-19399@email.esunbank.com.tw</td>\n",
       "      <td>C005</td>\n",
       "    </tr>\n",
       "  </tbody>\n",
       "</table>\n",
       "<p>86 rows × 3 columns</p>\n",
       "</div>"
      ],
      "text/plain": [
       "      PID                                         EML   DCD\n",
       "0   11964             ybt-11964@email.esunbank.com.tw  C010\n",
       "1   11965             jya-11965@email.esunbank.com.tw  C010\n",
       "2   13240          ntuaha-13240@email.esunbank.com.tw  C010\n",
       "3   16095       jerrywang-16095@email.esunbank.com.tw  C010\n",
       "4   17908       mingchieh-17908@email.esunbank.com.tw  C010\n",
       "5   18114         chiehen-18114@email.esunbank.com.tw  C010\n",
       "6   18341         kentsai-18341@email.esunbank.com.tw  C010\n",
       "7   19338  lucien.cy.chen-19338@email.esunbank.com.tw  C010\n",
       "8    3564           colin-03564@email.esunbank.com.tw  C005\n",
       "9   10281         kikilin-10281@email.esunbank.com.tw  C005\n",
       "10  12267          herman-12267@email.esunbank.com.tw  C005\n",
       "11  13243           wangf-13243@email.esunbank.com.tw  C005\n",
       "12  14111         hoching-14111@email.esunbank.com.tw  C005\n",
       "13  15143           wheat-15143@email.esunbank.com.tw  C005\n",
       "14  15777         micotai-15777@email.esunbank.com.tw  C005\n",
       "15  15953        lukechen-15953@email.esunbank.com.tw  C005\n",
       "16  16209        weitrtce-16209@email.esunbank.com.tw  C005\n",
       "17  16556         leochyn-16556@email.esunbank.com.tw  C005\n",
       "18  16557         hsinyeh-16557@email.esunbank.com.tw  C005\n",
       "19  16986           yurei-16986@email.esunbank.com.tw  C005\n",
       "20  17420           peggy-17420@email.esunbank.com.tw  C005\n",
       "21  17710         francis-17710@email.esunbank.com.tw  C005\n",
       "22  93102           peiyu-93102@email.esunbank.com.tw  C005\n",
       "23   2299            fong-02299@email.esunbank.com.tw  C005\n",
       "24   4414             joe-04414@email.esunbank.com.tw  C005\n",
       "25   6214        juicegir-06214@email.esunbank.com.tw  C005\n",
       "26   7482           jamie-07482@email.esunbank.com.tw  C005\n",
       "27   7567           abean-07567@email.esunbank.com.tw  C005\n",
       "28   8354       greedchen-08354@email.esunbank.com.tw  C005\n",
       "29   8771          kellen-08771@email.esunbank.com.tw  C005\n",
       "..    ...                                         ...   ...\n",
       "56  17365        wanching-17365@email.esunbank.com.tw  C005\n",
       "57  17526           ywwen-17526@email.esunbank.com.tw  C005\n",
       "58  17703          rexliu-17703@email.esunbank.com.tw  C005\n",
       "59  17770         jessewu-17770@email.esunbank.com.tw  C005\n",
       "60  17957         twhuang-17957@email.esunbank.com.tw  C005\n",
       "61  18067           trent-18067@email.esunbank.com.tw  C005\n",
       "62  18082          fangyu-18082@email.esunbank.com.tw  C005\n",
       "63  18112          yichen-18112@email.esunbank.com.tw  C005\n",
       "64  18122         ddennis-18122@email.esunbank.com.tw  C005\n",
       "65  18342           ahare-18342@email.esunbank.com.tw  C005\n",
       "66  18343         wenming-18343@email.esunbank.com.tw  C005\n",
       "67  18344          yichen-18344@email.esunbank.com.tw  C005\n",
       "68  18345        Michelle-18345@email.esunbank.com.tw  C005\n",
       "69  18346         maychou-18346@email.esunbank.com.tw  C005\n",
       "70  18347         michael-18347@email.esunbank.com.tw  C005\n",
       "71  18440       lilicheng-18440@email.esunbank.com.tw  C005\n",
       "72  18507     oceanuheart-18507@email.esunbank.com.tw  C005\n",
       "73  18849          RHChen-18849@email.esunbank.com.tw  C005\n",
       "74  18894        jc080571-18894@email.esunbank.com.tw  C005\n",
       "75  19058         peiweng-19058@email.esunbank.com.tw  C005\n",
       "76  19098         phhsieh-19098@email.esunbank.com.tw  C005\n",
       "77  19099             ang-19099@email.esunbank.com.tw  C005\n",
       "78  19158         zchsieh-19158@email.esunbank.com.tw  C005\n",
       "79  19233          jufeng-19233@email.esunbank.com.tw  C005\n",
       "80  19252             hty-19252@email.esunbank.com.tw  C005\n",
       "81  19255          ruwuao-19255@email.esunbank.com.tw  C005\n",
       "82  19269            adea-19269@email.esunbank.com.tw  C005\n",
       "83  19293           danny-19293@email.esunbank.com.tw  C005\n",
       "84  19366          Albert-19366@email.esunbank.com.tw  C005\n",
       "85  19399           yilee-19399@email.esunbank.com.tw  C005\n",
       "\n",
       "[86 rows x 3 columns]"
      ]
     },
     "execution_count": 9,
     "metadata": {},
     "output_type": "execute_result"
    }
   ],
   "source": [
    "mail_lists = pd.read_csv('./email_rank.csv', encoding = 'utf-8', skipinitialspace = True) #去空白\n",
    "mail_lists"
   ]
  },
  {
   "cell_type": "code",
   "execution_count": 10,
   "metadata": {},
   "outputs": [
    {
     "data": {
      "text/plain": [
       "Index(['PID', 'EML', 'DCD'], dtype='object')"
      ]
     },
     "execution_count": 10,
     "metadata": {},
     "output_type": "execute_result"
    }
   ],
   "source": [
    "mail_lists.columns\n",
    "#mail_lists.to_csv('./email_rank2.csv', index = False)"
   ]
  },
  {
   "cell_type": "code",
   "execution_count": 11,
   "metadata": {},
   "outputs": [],
   "source": [
    "fliter = (mail_lists['PID'] == 11964)\n",
    "mail_address = mail_lists[fliter]['EML'].to_string()"
   ]
  },
  {
   "cell_type": "code",
   "execution_count": 12,
   "metadata": {},
   "outputs": [
    {
     "data": {
      "text/plain": [
       "'0    ybt-11964@email.esunbank.com.tw'"
      ]
     },
     "execution_count": 12,
     "metadata": {},
     "output_type": "execute_result"
    }
   ],
   "source": [
    "type(mail_address)\n",
    "mail_address"
   ]
  },
  {
   "cell_type": "markdown",
   "metadata": {},
   "source": []
  },
  {
   "cell_type": "code",
   "execution_count": null,
   "metadata": {},
   "outputs": [],
   "source": []
  },
  {
   "cell_type": "code",
   "execution_count": null,
   "metadata": {},
   "outputs": [],
   "source": [
    "#序列化 反序列化測試\n",
    "import json\n",
    "json.loads(r.text)\n",
    "json.dumps(r_json)\n"
   ]
  },
  {
   "cell_type": "markdown",
   "metadata": {},
   "source": [
    "**建立TFS服務** 測試差異"
   ]
  },
  {
   "cell_type": "code",
   "execution_count": null,
   "metadata": {},
   "outputs": [],
   "source": [
    "import tfs_api_helper as th\n",
    "import pandas as pd\n",
    "\n",
    "tfs = th.TfsHelper('ESB11964','lfj2ve7ttgozouyvvb3azmlvgfvs7m47gbxmqfuw3ackoo6kzoca')\n",
    "tfs_projects = tfs.get_project('C004').json()['value']\n",
    "\n",
    "df = pd.DataFrame(tfs_projects)\n",
    "df"
   ]
  },
  {
   "cell_type": "code",
   "execution_count": null,
   "metadata": {},
   "outputs": [],
   "source": [
    "import tfs_api_helper as th\n",
    "\n",
    "import pandas as pd\n",
    "\n",
    "tfs = th.TfsHelper(url='https://tfsa0w0p02:8080/tfs/', collection='C004', user='ESB11964', token='lfj2ve7ttgozouyvvb3azmlvgfvs7m47gbxmqfuw3ackoo6kzoca')\n",
    "#tfs_projects = tfs.list_projects().json()"
   ]
  },
  {
   "cell_type": "code",
   "execution_count": null,
   "metadata": {},
   "outputs": [],
   "source": [
    "witql = {'query': 'Select * From WorkItems Where [C005.OnSchedule] = true'}\n",
    "\n",
    "wit_result = tfs.list_workitems(witql).json()['workItems']\n",
    "df = pd.DataFrame(wit_result)\n",
    "df"
   ]
  },
  {
   "cell_type": "code",
   "execution_count": null,
   "metadata": {},
   "outputs": [],
   "source": [
    "for index, row in df.iterrows():\n",
    "   print(row['url'])"
   ]
  },
  {
   "cell_type": "markdown",
   "metadata": {},
   "source": [
    "寄送Mail"
   ]
  },
  {
   "cell_type": "code",
   "execution_count": null,
   "metadata": {},
   "outputs": [],
   "source": [
    "import esun_mail_helper as ml"
   ]
  },
  {
   "cell_type": "code",
   "execution_count": null,
   "metadata": {},
   "outputs": [],
   "source": [
    "mail = ml.EsunMailHelper(sender= 'poting.yeh@gmail.com', host= '172.17.232.39', port=25)\n"
   ]
  },
  {
   "cell_type": "code",
   "execution_count": null,
   "metadata": {},
   "outputs": [],
   "source": [
    "mail.send(receivers = ['ybt-11964@email.esunbank.com.tw'],  subject= '201812061337測試信件', message= '這邊是本文')\n"
   ]
  },
  {
   "cell_type": "code",
   "execution_count": null,
   "metadata": {},
   "outputs": [],
   "source": []
  }
 ],
 "metadata": {
  "kernelspec": {
   "display_name": "Python 3",
   "language": "python",
   "name": "python3"
  },
  "language_info": {
   "codemirror_mode": {
    "name": "ipython",
    "version": 3
   },
   "file_extension": ".py",
   "mimetype": "text/x-python",
   "name": "python",
   "nbconvert_exporter": "python",
   "pygments_lexer": "ipython3",
   "version": "3.6.6"
  }
 },
 "nbformat": 4,
 "nbformat_minor": 2
}
