{
 "cells": [
  {
   "cell_type": "markdown",
   "metadata": {},
   "source": [
    "# TFS API呼叫測試"
   ]
  },
  {
   "cell_type": "code",
   "execution_count": 4,
   "metadata": {},
   "outputs": [],
   "source": [
    "import tfs_api_helper as th\n",
    "import pandas as pd"
   ]
  },
  {
   "cell_type": "code",
   "execution_count": 6,
   "metadata": {},
   "outputs": [
    {
     "data": {
      "text/plain": [
       "{'count': 53,\n",
       " 'value': [{'id': '511e9787-2e5a-4913-8bf0-fa85ed62fe03',\n",
       "   'name': 'DE-PL-Dh-Online-Loan',\n",
       "   'description': '線上核貸改版',\n",
       "   'url': 'https://tfsa0w0p02:8080/tfs/C004/_apis/projects/511e9787-2e5a-4913-8bf0-fa85ed62fe03',\n",
       "   'state': 'wellFormed',\n",
       "   'revision': 26967,\n",
       "   'visibility': 'private'},\n",
       "  {'id': '7a52afca-9494-4c3c-82d8-64b3b0eb8136',\n",
       "   'name': 'DA-WM-Auto-Rebalance',\n",
       "   'description': '理財Auto-Rebalance',\n",
       "   'url': 'https://tfsa0w0p02:8080/tfs/C004/_apis/projects/7a52afca-9494-4c3c-82d8-64b3b0eb8136',\n",
       "   'state': 'wellFormed',\n",
       "   'revision': 26958,\n",
       "   'visibility': 'private'},\n",
       "  {'id': '2815c30b-0562-477c-8978-a62699a70376',\n",
       "   'name': 'RI-PL-upl-acard-recalibration',\n",
       "   'description': '純信進件評分卡調整',\n",
       "   'url': 'https://tfsa0w0p02:8080/tfs/C004/_apis/projects/2815c30b-0562-477c-8978-a62699a70376',\n",
       "   'state': 'wellFormed',\n",
       "   'revision': 26813,\n",
       "   'visibility': 'private'},\n",
       "  {'id': '94d56edd-6d3f-4840-ae4c-77518eb3c71e',\n",
       "   'name': 'DA-ESUN-Ofsn',\n",
       "   'description': '全通路個人化行銷預測',\n",
       "   'url': 'https://tfsa0w0p02:8080/tfs/C004/_apis/projects/94d56edd-6d3f-4840-ae4c-77518eb3c71e',\n",
       "   'state': 'wellFormed',\n",
       "   'revision': 27113,\n",
       "   'visibility': 'private'},\n",
       "  {'id': '24f50511-b2b8-43b4-b7eb-0513727956ce',\n",
       "   'name': 'C010-Personal',\n",
       "   'url': 'https://tfsa0w0p02:8080/tfs/C004/_apis/projects/24f50511-b2b8-43b4-b7eb-0513727956ce',\n",
       "   'state': 'wellFormed',\n",
       "   'revision': 26454,\n",
       "   'visibility': 'private'},\n",
       "  {'id': 'c00733df-a66f-4e77-973c-f0ee140dac6e',\n",
       "   'name': 'C010-Tfs-Workitem',\n",
       "   'description': '測試工作包調整欄位及寄送通知',\n",
       "   'url': 'https://tfsa0w0p02:8080/tfs/C004/_apis/projects/c00733df-a66f-4e77-973c-f0ee140dac6e',\n",
       "   'state': 'wellFormed',\n",
       "   'revision': 27152,\n",
       "   'visibility': 'private'},\n",
       "  {'id': 'cbcbcb19-62a4-48af-a914-0b1c02f79cfb',\n",
       "   'name': 'DE-CRV-Abt-Housekeeping',\n",
       "   'description': '倉儲優化',\n",
       "   'url': 'https://tfsa0w0p02:8080/tfs/C004/_apis/projects/cbcbcb19-62a4-48af-a914-0b1c02f79cfb',\n",
       "   'state': 'wellFormed',\n",
       "   'revision': 26962,\n",
       "   'visibility': 'private'},\n",
       "  {'id': 'e80d2bb8-2258-4e17-be1b-6e34bf00aec8',\n",
       "   'name': 'DA-BR-Atm-Analysis',\n",
       "   'description': 'ATM樣態分析第二階段',\n",
       "   'url': 'https://tfsa0w0p02:8080/tfs/C004/_apis/projects/e80d2bb8-2258-4e17-be1b-6e34bf00aec8',\n",
       "   'state': 'wellFormed',\n",
       "   'revision': 26951,\n",
       "   'visibility': 'private'},\n",
       "  {'id': '56d1bcf9-f4cd-4340-9267-05010df9bffb',\n",
       "   'name': 'DA-ESUN-Mars-Recommendation-System',\n",
       "   'url': 'https://tfsa0w0p02:8080/tfs/C004/_apis/projects/56d1bcf9-f4cd-4340-9267-05010df9bffb',\n",
       "   'state': 'wellFormed',\n",
       "   'revision': 26954,\n",
       "   'visibility': 'private'},\n",
       "  {'id': '73a24fe4-3746-4b72-b38d-e380d02fa416',\n",
       "   'name': 'CRV-Junior-Training-Program',\n",
       "   'description': 'CRV教育訓練規劃與執行',\n",
       "   'url': 'https://tfsa0w0p02:8080/tfs/C004/_apis/projects/73a24fe4-3746-4b72-b38d-e380d02fa416',\n",
       "   'state': 'wellFormed',\n",
       "   'revision': 26948,\n",
       "   'visibility': 'private'},\n",
       "  {'id': 'b7f5c674-9b1d-4aa0-9a04-87f56175452a',\n",
       "   'name': 'DE-CRV-Aicloud',\n",
       "   'description': 'AI研發雲環境佈建',\n",
       "   'url': 'https://tfsa0w0p02:8080/tfs/C004/_apis/projects/b7f5c674-9b1d-4aa0-9a04-87f56175452a',\n",
       "   'state': 'wellFormed',\n",
       "   'revision': 26973,\n",
       "   'visibility': 'private'},\n",
       "  {'id': 'a58b973d-08f0-49f6-a73c-02184b6b41a8',\n",
       "   'name': 'PMO-ESUN-analysis-trans',\n",
       "   'description': '協助業管自行產製並維運業務報表與行銷名單',\n",
       "   'url': 'https://tfsa0w0p02:8080/tfs/C004/_apis/projects/a58b973d-08f0-49f6-a73c-02184b6b41a8',\n",
       "   'state': 'wellFormed',\n",
       "   'revision': 27009,\n",
       "   'visibility': 'private'},\n",
       "  {'id': '0a47cae4-acf0-47db-a93f-09cec50e9e63',\n",
       "   'name': 'PMO',\n",
       "   'description': 'PMO管理工作事項',\n",
       "   'url': 'https://tfsa0w0p02:8080/tfs/C004/_apis/projects/0a47cae4-acf0-47db-a93f-09cec50e9e63',\n",
       "   'state': 'wellFormed',\n",
       "   'revision': 27085,\n",
       "   'visibility': 'private'},\n",
       "  {'id': 'bd6bd842-f405-4276-adc6-8e7fc90b19f3',\n",
       "   'name': 'DA-ESUN-Ofsn-Cc',\n",
       "   'description': '全通路個人化推薦--信用卡',\n",
       "   'url': 'https://tfsa0w0p02:8080/tfs/C004/_apis/projects/bd6bd842-f405-4276-adc6-8e7fc90b19f3',\n",
       "   'state': 'wellFormed',\n",
       "   'revision': 27132,\n",
       "   'visibility': 'private'},\n",
       "  {'id': '49a14eea-cb01-4b02-8d89-482175a14e11',\n",
       "   'name': 'DA-ESUN-Ofsn-Wm',\n",
       "   'description': '全通路個人化推薦--理財',\n",
       "   'url': 'https://tfsa0w0p02:8080/tfs/C004/_apis/projects/49a14eea-cb01-4b02-8d89-482175a14e11',\n",
       "   'state': 'wellFormed',\n",
       "   'revision': 27155,\n",
       "   'visibility': 'private'},\n",
       "  {'id': 'a9876a68-a1d8-4bc0-8847-c36135191ad4',\n",
       "   'name': 'DA-CC-Fraud-Detection',\n",
       "   'description': '信用卡詐欺偵測',\n",
       "   'url': 'https://tfsa0w0p02:8080/tfs/C004/_apis/projects/a9876a68-a1d8-4bc0-8847-c36135191ad4',\n",
       "   'state': 'wellFormed',\n",
       "   'revision': 27108,\n",
       "   'visibility': 'private'},\n",
       "  {'id': '4897d318-1649-4d88-a148-8ebc9043a40d',\n",
       "   'name': 'DE-BR-Check-Digitization',\n",
       "   'description': '票據影像辨識',\n",
       "   'url': 'https://tfsa0w0p02:8080/tfs/C004/_apis/projects/4897d318-1649-4d88-a148-8ebc9043a40d',\n",
       "   'state': 'wellFormed',\n",
       "   'revision': 26961,\n",
       "   'visibility': 'private'},\n",
       "  {'id': '81e7e2f7-61c1-48ec-ab3e-3106b67e1853',\n",
       "   'name': 'ESUN PoC',\n",
       "   'description': '玉山全行Poc紀錄',\n",
       "   'url': 'https://tfsa0w0p02:8080/tfs/C004/_apis/projects/81e7e2f7-61c1-48ec-ab3e-3106b67e1853',\n",
       "   'state': 'wellFormed',\n",
       "   'revision': 26601,\n",
       "   'visibility': 'private'},\n",
       "  {'id': '5695e18d-f72f-4dd9-965d-736f55e70764',\n",
       "   'name': 'DA-ESUN-Ofsn-Fx',\n",
       "   'description': '全通路個人化推薦--外匯',\n",
       "   'url': 'https://tfsa0w0p02:8080/tfs/C004/_apis/projects/5695e18d-f72f-4dd9-965d-736f55e70764',\n",
       "   'state': 'wellFormed',\n",
       "   'revision': 27150,\n",
       "   'visibility': 'private'},\n",
       "  {'id': '4b51f096-02d6-47fc-85d8-92b83b3ca1f2',\n",
       "   'name': 'DA-BR-Branch-Visualization',\n",
       "   'description': '個金處通路營運管理平台',\n",
       "   'url': 'https://tfsa0w0p02:8080/tfs/C004/_apis/projects/4b51f096-02d6-47fc-85d8-92b83b3ca1f2',\n",
       "   'state': 'wellFormed',\n",
       "   'revision': 26953,\n",
       "   'visibility': 'private'},\n",
       "  {'id': '74567452-2789-41fe-8c23-b7e4fcf3393e',\n",
       "   'name': 'python_framework',\n",
       "   'description': 'Python Base的框架',\n",
       "   'url': 'https://tfsa0w0p02:8080/tfs/C004/_apis/projects/74567452-2789-41fe-8c23-b7e4fcf3393e',\n",
       "   'state': 'wellFormed',\n",
       "   'revision': 26481,\n",
       "   'visibility': 'private'},\n",
       "  {'id': '4ce6410f-5716-473d-bb28-ebad6aee2fbd',\n",
       "   'name': 'RI-PL-house-avm',\n",
       "   'description': '房貸估價模型AVM改版',\n",
       "   'url': 'https://tfsa0w0p02:8080/tfs/C004/_apis/projects/4ce6410f-5716-473d-bb28-ebad6aee2fbd',\n",
       "   'state': 'wellFormed',\n",
       "   'revision': 26835,\n",
       "   'visibility': 'private'},\n",
       "  {'id': 'a1bb6b95-053b-42e0-83f5-56ae503080d2',\n",
       "   'name': 'DA-CC-Experiment-InterestRate',\n",
       "   'description': '卡友貸利率回應實驗設計',\n",
       "   'url': 'https://tfsa0w0p02:8080/tfs/C004/_apis/projects/a1bb6b95-053b-42e0-83f5-56ae503080d2',\n",
       "   'state': 'wellFormed',\n",
       "   'revision': 27048,\n",
       "   'visibility': 'private'},\n",
       "  {'id': '1798b072-61f3-402b-9506-85d6e8a9189f',\n",
       "   'name': 'RI-BR-dp-acct-alert',\n",
       "   'description': '警示帳戶模型',\n",
       "   'url': 'https://tfsa0w0p02:8080/tfs/C004/_apis/projects/1798b072-61f3-402b-9506-85d6e8a9189f',\n",
       "   'state': 'wellFormed',\n",
       "   'revision': 26940,\n",
       "   'visibility': 'private'},\n",
       "  {'id': '9b2b4dd4-2efd-4021-9380-40db13e42e94',\n",
       "   'name': 'C005-MLaaS_experiment',\n",
       "   'description': 'MLaaS CI CD experiment for CRV',\n",
       "   'url': 'https://tfsa0w0p02:8080/tfs/C004/_apis/projects/9b2b4dd4-2efd-4021-9380-40db13e42e94',\n",
       "   'state': 'wellFormed',\n",
       "   'revision': 27096,\n",
       "   'visibility': 'private'},\n",
       "  {'id': '16ebdd27-56b1-4b30-acf8-b77f6713d6b7',\n",
       "   'name': 'DE-CRV-Mlaas',\n",
       "   'description': '機器學習即服務平台',\n",
       "   'url': 'https://tfsa0w0p02:8080/tfs/C004/_apis/projects/16ebdd27-56b1-4b30-acf8-b77f6713d6b7',\n",
       "   'state': 'wellFormed',\n",
       "   'revision': 26964,\n",
       "   'visibility': 'private'},\n",
       "  {'id': 'f41f2106-a921-46a5-bd4a-a426ad975830',\n",
       "   'name': 'CRV-Recreation',\n",
       "   'url': 'https://tfsa0w0p02:8080/tfs/C004/_apis/projects/f41f2106-a921-46a5-bd4a-a426ad975830',\n",
       "   'state': 'wellFormed',\n",
       "   'revision': 26949,\n",
       "   'visibility': 'private'},\n",
       "  {'id': '870e12dd-88b5-45b4-870e-f68ca54f957c',\n",
       "   'name': 'CRV-Brand',\n",
       "   'description': '對外合作活動',\n",
       "   'url': 'https://tfsa0w0p02:8080/tfs/C004/_apis/projects/870e12dd-88b5-45b4-870e-f68ca54f957c',\n",
       "   'state': 'wellFormed',\n",
       "   'revision': 26945,\n",
       "   'visibility': 'private'},\n",
       "  {'id': '324b8a0b-daf0-4c57-a9f9-e5be064f6434',\n",
       "   'name': 'RI-PL-Mortgage-Value-Prediction',\n",
       "   'description': '有擔保商品價值模型專案',\n",
       "   'url': 'https://tfsa0w0p02:8080/tfs/C004/_apis/projects/324b8a0b-daf0-4c57-a9f9-e5be064f6434',\n",
       "   'state': 'wellFormed',\n",
       "   'revision': 26986,\n",
       "   'visibility': 'private'},\n",
       "  {'id': 'c34a89fd-9f2c-4984-9d0d-52879ca45313',\n",
       "   'name': 'CRV-ESUN-Temporary-Demand',\n",
       "   'description': '全行各項一次性短期任務',\n",
       "   'url': 'https://tfsa0w0p02:8080/tfs/C004/_apis/projects/c34a89fd-9f2c-4984-9d0d-52879ca45313',\n",
       "   'state': 'wellFormed',\n",
       "   'revision': 26947,\n",
       "   'visibility': 'private'},\n",
       "  {'id': '96e72945-1ce7-4e29-bb82-9a6304574d9c',\n",
       "   'name': 'RI-ESUN-ncs-data-transfer',\n",
       "   'description': '大消金資料移轉',\n",
       "   'url': 'https://tfsa0w0p02:8080/tfs/C004/_apis/projects/96e72945-1ce7-4e29-bb82-9a6304574d9c',\n",
       "   'state': 'wellFormed',\n",
       "   'revision': 26808,\n",
       "   'visibility': 'private'},\n",
       "  {'id': 'c4955656-0936-44a8-a293-d9f8bc3f99ea',\n",
       "   'name': 'RI-PL-Sb-Npl-Graph-Feature-Poc',\n",
       "   'description': '小型事業授信違約風險圖特徵提取PoC',\n",
       "   'url': 'https://tfsa0w0p02:8080/tfs/C004/_apis/projects/c4955656-0936-44a8-a293-d9f8bc3f99ea',\n",
       "   'state': 'wellFormed',\n",
       "   'revision': 27027,\n",
       "   'visibility': 'private'},\n",
       "  {'id': '71fc8e99-7390-4d30-9136-1cfe1a1e8a33',\n",
       "   'name': 'C010-Project',\n",
       "   'description': 'C010-Project 集中追蹤管理',\n",
       "   'url': 'https://tfsa0w0p02:8080/tfs/C004/_apis/projects/71fc8e99-7390-4d30-9136-1cfe1a1e8a33',\n",
       "   'state': 'wellFormed',\n",
       "   'revision': 27083,\n",
       "   'visibility': 'private'},\n",
       "  {'id': 'e3d3b34c-3542-4519-a64f-c901689ee5e5',\n",
       "   'name': 'CRV-ESUN-AICompetition',\n",
       "   'description': 'AI競賽活動',\n",
       "   'url': 'https://tfsa0w0p02:8080/tfs/C004/_apis/projects/e3d3b34c-3542-4519-a64f-c901689ee5e5',\n",
       "   'state': 'wellFormed',\n",
       "   'revision': 27066,\n",
       "   'visibility': 'private'},\n",
       "  {'id': '9663da47-af55-446a-817d-15be899ecb65',\n",
       "   'name': 'CRV-ESUN-DataGovernance',\n",
       "   'description': '資料治理',\n",
       "   'url': 'https://tfsa0w0p02:8080/tfs/C004/_apis/projects/9663da47-af55-446a-817d-15be899ecb65',\n",
       "   'state': 'wellFormed',\n",
       "   'revision': 27057,\n",
       "   'visibility': 'private'},\n",
       "  {'id': '976736b5-c239-41cf-8ced-7b95791070e2',\n",
       "   'name': 'DE-Service',\n",
       "   'description': 'DE營運任務',\n",
       "   'url': 'https://tfsa0w0p02:8080/tfs/C004/_apis/projects/976736b5-c239-41cf-8ced-7b95791070e2',\n",
       "   'state': 'wellFormed',\n",
       "   'revision': 26968,\n",
       "   'visibility': 'private'},\n",
       "  {'id': '427b87fe-e39e-4d50-aa4b-92f5f5d586a4',\n",
       "   'name': 'RI-PL-upl-credit-check',\n",
       "   'description': '純信自動徵審精進',\n",
       "   'url': 'https://tfsa0w0p02:8080/tfs/C004/_apis/projects/427b87fe-e39e-4d50-aa4b-92f5f5d586a4',\n",
       "   'state': 'wellFormed',\n",
       "   'revision': 26814,\n",
       "   'visibility': 'private'},\n",
       "  {'id': '47b75eb4-981b-48ef-b19f-9d54ad15a819',\n",
       "   'name': 'DA-BR-Branch-Performance',\n",
       "   'description': '分行績效模型',\n",
       "   'url': 'https://tfsa0w0p02:8080/tfs/C004/_apis/projects/47b75eb4-981b-48ef-b19f-9d54ad15a819',\n",
       "   'state': 'wellFormed',\n",
       "   'revision': 26952,\n",
       "   'visibility': 'private'},\n",
       "  {'id': '9d770ae9-8125-446f-99be-5f690c175bd0',\n",
       "   'name': 'RI-CRV-Feature-Platform',\n",
       "   'description': '因子共享平台',\n",
       "   'url': 'https://tfsa0w0p02:8080/tfs/C004/_apis/projects/9d770ae9-8125-446f-99be-5f690c175bd0',\n",
       "   'state': 'wellFormed',\n",
       "   'revision': 27039,\n",
       "   'visibility': 'private'},\n",
       "  {'id': 'd6033a8d-6f68-4185-8d15-f08b6363df65',\n",
       "   'name': 'C010-Coding-Flow',\n",
       "   'description': '測試程式開發檢核流程',\n",
       "   'url': 'https://tfsa0w0p02:8080/tfs/C004/_apis/projects/d6033a8d-6f68-4185-8d15-f08b6363df65',\n",
       "   'state': 'wellFormed',\n",
       "   'revision': 27076,\n",
       "   'visibility': 'private'},\n",
       "  {'id': '9b3231af-5516-4519-b9a8-8350d2ae59df',\n",
       "   'name': 'DA-WM-Data-Main-Fund',\n",
       "   'description': '主打基金',\n",
       "   'url': 'https://tfsa0w0p02:8080/tfs/C004/_apis/projects/9b3231af-5516-4519-b9a8-8350d2ae59df',\n",
       "   'state': 'wellFormed',\n",
       "   'revision': 27067,\n",
       "   'visibility': 'private'},\n",
       "  {'id': '2cf8f2a3-4274-4f92-af50-3d38fb0217aa',\n",
       "   'name': 'CRV-Training',\n",
       "   'description': 'CRV\"非新人\"教育訓練相關事項',\n",
       "   'url': 'https://tfsa0w0p02:8080/tfs/C004/_apis/projects/2cf8f2a3-4274-4f92-af50-3d38fb0217aa',\n",
       "   'state': 'wellFormed',\n",
       "   'revision': 26950,\n",
       "   'visibility': 'private'},\n",
       "  {'id': 'c9aeb0d3-ad41-4cb8-a7fb-30f400a722d2',\n",
       "   'name': 'C010-ESB11965',\n",
       "   'url': 'https://tfsa0w0p02:8080/tfs/C004/_apis/projects/c9aeb0d3-ad41-4cb8-a7fb-30f400a722d2',\n",
       "   'state': 'wellFormed',\n",
       "   'revision': 26571,\n",
       "   'visibility': 'private'},\n",
       "  {'id': '1a22c664-99ee-4683-860f-d5ac68b3400a',\n",
       "   'name': 'CRV-Administrative',\n",
       "   'description': 'CRV 自治幹部、文書及人資工作',\n",
       "   'url': 'https://tfsa0w0p02:8080/tfs/C004/_apis/projects/1a22c664-99ee-4683-860f-d5ac68b3400a',\n",
       "   'state': 'wellFormed',\n",
       "   'revision': 26944,\n",
       "   'visibility': 'private'},\n",
       "  {'id': '03db14f6-a1f9-4265-a1a0-fbe299fe65a0',\n",
       "   'name': 'DA-PL-Sb-Loan-Prediction',\n",
       "   'description': 'SB顧客貸款需求預測',\n",
       "   'url': 'https://tfsa0w0p02:8080/tfs/C004/_apis/projects/03db14f6-a1f9-4265-a1a0-fbe299fe65a0',\n",
       "   'state': 'wellFormed',\n",
       "   'revision': 26956,\n",
       "   'visibility': 'private'},\n",
       "  {'id': '79d00728-f472-43c4-87d4-ed57ae702a94',\n",
       "   'name': 'RI-CRV-Riskmodel-Monitoring-Automation',\n",
       "   'description': '風險模型監控自動化專案',\n",
       "   'url': 'https://tfsa0w0p02:8080/tfs/C004/_apis/projects/79d00728-f472-43c4-87d4-ed57ae702a94',\n",
       "   'state': 'wellFormed',\n",
       "   'revision': 27004,\n",
       "   'visibility': 'private'},\n",
       "  {'id': 'd4c8e0fc-147d-41ef-96c7-a61a8c017b9d',\n",
       "   'name': 'DA-ESUN-Ofsn-Ln',\n",
       "   'description': '全通路個人化推薦--個人信款',\n",
       "   'url': 'https://tfsa0w0p02:8080/tfs/C004/_apis/projects/d4c8e0fc-147d-41ef-96c7-a61a8c017b9d',\n",
       "   'state': 'wellFormed',\n",
       "   'revision': 27141,\n",
       "   'visibility': 'private'},\n",
       "  {'id': '2c8fb227-971c-4d36-b39e-d3e58f5ec62d',\n",
       "   'name': 'DA-PL-Upl-Demand-Predicition',\n",
       "   'description': '信貸需求預測',\n",
       "   'url': 'https://tfsa0w0p02:8080/tfs/C004/_apis/projects/2c8fb227-971c-4d36-b39e-d3e58f5ec62d',\n",
       "   'state': 'wellFormed',\n",
       "   'revision': 26957,\n",
       "   'visibility': 'private'},\n",
       "  {'id': '002cd7c8-85f8-4dbc-947d-ebdf2a4bddbb',\n",
       "   'name': 'DA-WM-Churn-Prediction',\n",
       "   'description': '理財顧客流失分析',\n",
       "   'url': 'https://tfsa0w0p02:8080/tfs/C004/_apis/projects/002cd7c8-85f8-4dbc-947d-ebdf2a4bddbb',\n",
       "   'state': 'wellFormed',\n",
       "   'revision': 26959,\n",
       "   'visibility': 'private'},\n",
       "  {'id': 'b151be4c-94ac-42d8-a99a-4a1b2db6041f',\n",
       "   'name': 'RI-PL-ifrs9-system',\n",
       "   'description': 'IFRS9系統導入專案',\n",
       "   'url': 'https://tfsa0w0p02:8080/tfs/C004/_apis/projects/b151be4c-94ac-42d8-a99a-4a1b2db6041f',\n",
       "   'state': 'wellFormed',\n",
       "   'revision': 26803,\n",
       "   'visibility': 'private'},\n",
       "  {'id': '11220e92-fa46-4ea0-b6e2-9378a7636a85',\n",
       "   'name': 'CRV-Discipline',\n",
       "   'description': '法遵,資安查核及日常服儀',\n",
       "   'url': 'https://tfsa0w0p02:8080/tfs/C004/_apis/projects/11220e92-fa46-4ea0-b6e2-9378a7636a85',\n",
       "   'state': 'wellFormed',\n",
       "   'revision': 26946,\n",
       "   'visibility': 'private'},\n",
       "  {'id': 'f2a9fad6-77b1-4ec2-ad63-ffdaca78faf5',\n",
       "   'name': 'DA-WM-Fa-Customer-Match',\n",
       "   'description': '理財顧客與理專適配分析',\n",
       "   'url': 'https://tfsa0w0p02:8080/tfs/C004/_apis/projects/f2a9fad6-77b1-4ec2-ad63-ffdaca78faf5',\n",
       "   'state': 'wellFormed',\n",
       "   'revision': 26960,\n",
       "   'visibility': 'private'},\n",
       "  {'id': 'ca52ec02-2dfb-4c47-a08d-9c80981686aa',\n",
       "   'name': 'RI-CC-Creditcard-Value-Prediction',\n",
       "   'description': '信用卡價值模型調整專案',\n",
       "   'url': 'https://tfsa0w0p02:8080/tfs/C004/_apis/projects/ca52ec02-2dfb-4c47-a08d-9c80981686aa',\n",
       "   'state': 'wellFormed',\n",
       "   'revision': 27114,\n",
       "   'visibility': 'private'}]}"
      ]
     },
     "execution_count": 6,
     "metadata": {},
     "output_type": "execute_result"
    }
   ],
   "source": [
    "import urllib3\n",
    "urllib3.disable_warnings()\n",
    "tfs = th.TfsHelper(url='https://tfsa0w0p02:8080/tfs/', collection='C004', user='ESB11964', token='lfj2ve7ttgozouyvvb3azmlvgfvs7m47gbxmqfuw3ackoo6kzoca')\n",
    "tfs_projects = tfs.list_projects().json()\n",
    "tfs_projects"
   ]
  },
  {
   "cell_type": "markdown",
   "metadata": {},
   "source": [
    "查詢專案內所有的WIT"
   ]
  },
  {
   "cell_type": "code",
   "execution_count": null,
   "metadata": {},
   "outputs": [],
   "source": [
    "wiql = {'query': 'Select [System.ID] From WorkItems Where [System.TeamProject] = \"C010-Tfs-Workitem\"'}\n",
    "tfs_list_workitems = tfs.list_workitems(wiql).json()\n",
    "\n",
    "print(tfs_list_workitems)"
   ]
  },
  {
   "cell_type": "markdown",
   "metadata": {},
   "source": [
    "查詢今天之前的WIT"
   ]
  },
  {
   "cell_type": "code",
   "execution_count": null,
   "metadata": {},
   "outputs": [],
   "source": [
    "wiql = {'query': 'Select [System.ID] From WorkItems Where [System.TeamProject] = \"C010-Tfs-Workitem\" AND [Microsoft.VSTS.Scheduling.FinishDate] < @Today'}     \n",
    "tfs_list_workitems = tfs.list_workitems(wiql).json()['workItems']\n",
    "\n",
    "print(len(tfs_list_workitems))"
   ]
  },
  {
   "cell_type": "markdown",
   "metadata": {},
   "source": [
    "查詢逾期的WIT(作用中或已提議)"
   ]
  },
  {
   "cell_type": "code",
   "execution_count": null,
   "metadata": {},
   "outputs": [],
   "source": [
    "wiql = {'query': 'Select [System.ID] From WorkItems Where [System.TeamProject] = \"C010-Tfs-Workitem\" AND [Microsoft.VSTS.Scheduling.FinishDate] < @Today AND ([System.State] = \"已提議\" OR [System.State] = \"作用中\" )'}     \n",
    "tfs_list_workitems = tfs.list_workitems(wiql).json()['workItems']\n",
    "\n",
    "print(len(tfs_list_workitems))"
   ]
  },
  {
   "cell_type": "markdown",
   "metadata": {},
   "source": [
    "查詢需要幫忙的工作項"
   ]
  },
  {
   "cell_type": "code",
   "execution_count": null,
   "metadata": {},
   "outputs": [],
   "source": [
    "wiql = {'query': 'Select [System.ID] From WorkItems Where [System.TeamProject] = \"C010-Tfs-Workitem\" AND [C005.CallHelp] = true'}     \n",
    "tfs_list_workitems = tfs.list_workitems(wiql).json()['workItems']\n",
    "\n",
    "print(len(tfs_list_workitems))"
   ]
  },
  {
   "cell_type": "markdown",
   "metadata": {},
   "source": [
    "查詢可能逾期的工作項"
   ]
  },
  {
   "cell_type": "code",
   "execution_count": null,
   "metadata": {},
   "outputs": [],
   "source": [
    "wiql = {'query': 'Select [System.ID] From WorkItems Where [System.TeamProject] = \"C010-Tfs-Workitem\" AND [C005.OnSchedule] = false AND [System.WorkItemType] = \"工作\" AND ([System.State] = \"已提議\" OR [System.State] = \"作用中\" )'}     \n",
    "tfs_list_workitems = tfs.list_workitems(wiql).json()['workItems']\n",
    "\n",
    "print(len(tfs_list_workitems))"
   ]
  },
  {
   "cell_type": "markdown",
   "metadata": {},
   "source": [
    "取出工作項的資料"
   ]
  },
  {
   "cell_type": "code",
   "execution_count": null,
   "metadata": {},
   "outputs": [],
   "source": [
    "#使用正規表示式取員編\n",
    "def get_staff_id(assigned):\n",
    "    pattern = r'[0-9]{1,5}>'\n",
    "    find = re.findall(string=assigned, pattern=pattern)[0]\n",
    "    pattern = r'>'\n",
    "    \n",
    "    staff_id = re.split(pattern=pattern, string= find)\n",
    "    return staff_id[0]"
   ]
  },
  {
   "cell_type": "code",
   "execution_count": null,
   "metadata": {},
   "outputs": [],
   "source": [
    "import re\n",
    "\n",
    "for i in tfs_list_workitems:\n",
    "    workitem = tfs.tfs_api_call(i['url']).json()\n",
    "    print(workitem)\n",
    "    project = workitem['fields']['System.TeamProject']\n",
    "    assigned = workitem['fields']['System.AssignedTo']\n",
    "    title =  workitem['fields']['System.Title']\n",
    "    html = workitem['_links']['html']['href']\n",
    "    print('Project：' , project)\n",
    "    print('工作包擁有者：', assigned)\n",
    "    print('ID：', i['id'])\n",
    "    print('工作項：', title)\n",
    "    print('連結：', html)\n",
    "    #取AD\n",
    "    #pattern =  r'OANT\\\\[a-zA-Z0-9]*'\n",
    "    staff = get_staff_id(assigned)\n",
    "    print('Staff：', staff)\n",
    "    \n",
    "    \n",
    "    "
   ]
  },
  {
   "cell_type": "markdown",
   "metadata": {},
   "source": []
  },
  {
   "cell_type": "code",
   "execution_count": null,
   "metadata": {},
   "outputs": [],
   "source": []
  },
  {
   "cell_type": "code",
   "execution_count": null,
   "metadata": {},
   "outputs": [],
   "source": []
  },
  {
   "cell_type": "code",
   "execution_count": null,
   "metadata": {},
   "outputs": [],
   "source": []
  },
  {
   "cell_type": "code",
   "execution_count": null,
   "metadata": {},
   "outputs": [],
   "source": []
  },
  {
   "cell_type": "markdown",
   "metadata": {},
   "source": [
    "取得Mail Address"
   ]
  },
  {
   "cell_type": "code",
   "execution_count": null,
   "metadata": {},
   "outputs": [],
   "source": [
    "mail_lists = pd.read_csv('./email_rank.csv', encoding = 'utf-8', skipinitialspace = True) #去空白\n",
    "mail_lists"
   ]
  },
  {
   "cell_type": "code",
   "execution_count": null,
   "metadata": {},
   "outputs": [],
   "source": [
    "mail_lists.columns\n",
    "#mail_lists.to_csv('./email_rank2.csv', index = False)"
   ]
  },
  {
   "cell_type": "code",
   "execution_count": null,
   "metadata": {},
   "outputs": [],
   "source": [
    "\n",
    "fliter = (mail_lists['PID'] == 11965)\n",
    "mail_address = mail_lists[fliter]['EML'].values[0]\n",
    "\n",
    "print(mail_address)"
   ]
  },
  {
   "cell_type": "code",
   "execution_count": null,
   "metadata": {},
   "outputs": [],
   "source": [
    "type(mail_address)\n",
    "mail_address"
   ]
  },
  {
   "cell_type": "markdown",
   "metadata": {},
   "source": []
  },
  {
   "cell_type": "code",
   "execution_count": null,
   "metadata": {},
   "outputs": [],
   "source": []
  },
  {
   "cell_type": "code",
   "execution_count": null,
   "metadata": {},
   "outputs": [],
   "source": [
    "#序列化 反序列化測試\n",
    "import json\n",
    "json.loads(r.text)\n",
    "json.dumps(r_json)\n"
   ]
  },
  {
   "cell_type": "markdown",
   "metadata": {},
   "source": [
    "**建立TFS服務** 測試差異"
   ]
  },
  {
   "cell_type": "code",
   "execution_count": null,
   "metadata": {},
   "outputs": [],
   "source": [
    "import tfs_api_helper as th\n",
    "import pandas as pd\n",
    "\n",
    "tfs = th.TfsHelper('ESB11964','lfj2ve7ttgozouyvvb3azmlvgfvs7m47gbxmqfuw3ackoo6kzoca')\n",
    "tfs_projects = tfs.get_project('C004').json()['value']\n",
    "\n",
    "df = pd.DataFrame(tfs_projects)\n",
    "df"
   ]
  },
  {
   "cell_type": "code",
   "execution_count": null,
   "metadata": {},
   "outputs": [],
   "source": [
    "import tfs_api_helper as th\n",
    "\n",
    "import pandas as pd\n",
    "\n",
    "tfs = th.TfsHelper(url='https://tfsa0w0p02:8080/tfs/', collection='C004', user='ESB11964', token='lfj2ve7ttgozouyvvb3azmlvgfvs7m47gbxmqfuw3ackoo6kzoca')\n",
    "#tfs_projects = tfs.list_projects().json()"
   ]
  },
  {
   "cell_type": "code",
   "execution_count": null,
   "metadata": {},
   "outputs": [],
   "source": [
    "witql = {'query': 'Select * From WorkItems Where [C005.OnSchedule] = true'}\n",
    "\n",
    "wit_result = tfs.list_workitems(witql).json()['workItems']\n",
    "df = pd.DataFrame(wit_result)\n",
    "df"
   ]
  },
  {
   "cell_type": "code",
   "execution_count": null,
   "metadata": {},
   "outputs": [],
   "source": [
    "for index, row in df.iterrows():\n",
    "   print(row['url'])"
   ]
  },
  {
   "cell_type": "markdown",
   "metadata": {},
   "source": [
    "寄送Mail"
   ]
  },
  {
   "cell_type": "code",
   "execution_count": null,
   "metadata": {},
   "outputs": [],
   "source": [
    "import esun_mail_helper as ml"
   ]
  },
  {
   "cell_type": "code",
   "execution_count": null,
   "metadata": {},
   "outputs": [],
   "source": [
    "mail = ml.EsunMailHelper(sender= 'poting.yeh@gmail.com', host= '172.17.232.39', port=25)\n"
   ]
  },
  {
   "cell_type": "code",
   "execution_count": null,
   "metadata": {},
   "outputs": [],
   "source": [
    "mail.send(receivers = ['ybt-11964@email.esunbank.com.tw'],  subject= '201812061337測試信件', message= '這邊是本文')\n"
   ]
  },
  {
   "cell_type": "code",
   "execution_count": null,
   "metadata": {},
   "outputs": [],
   "source": []
  }
 ],
 "metadata": {
  "kernelspec": {
   "display_name": "Python 3",
   "language": "python",
   "name": "python3"
  },
  "language_info": {
   "codemirror_mode": {
    "name": "ipython",
    "version": 3
   },
   "file_extension": ".py",
   "mimetype": "text/x-python",
   "name": "python",
   "nbconvert_exporter": "python",
   "pygments_lexer": "ipython3",
   "version": "3.6.6"
  }
 },
 "nbformat": 4,
 "nbformat_minor": 2
}
